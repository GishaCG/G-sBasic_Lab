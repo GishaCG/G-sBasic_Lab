{
 "cells": [
  {
   "cell_type": "code",
   "execution_count": 19,
   "metadata": {},
   "outputs": [
    {
     "name": "stdout",
     "output_type": "stream",
     "text": [
      "[0, 0] 0\n",
      "[0, 1] 0\n",
      "[1, 0] 0\n",
      "[1, 1] 0\n"
     ]
    }
   ],
   "source": [
    "import numpy as np\n",
    "class Perceptron:\n",
    "    \n",
    "    def __init__(self, input_length, weights=None):\n",
    "        if weights is None:\n",
    "            self.weights = np.ones(input_length) * 0.5\n",
    "        else:\n",
    "            self.weights = weights\n",
    "        \n",
    "    @staticmethod\n",
    "    def unit_step_function(x):\n",
    "        if x > 1:\n",
    "            return 1\n",
    "        return 0\n",
    "        \n",
    "    def __call__(self, in_data):\n",
    "        weighted_input = self.weights * in_data\n",
    "        weighted_sum = weighted_input.sum()\n",
    "        return Perceptron.unit_step_function(weighted_sum)\n",
    "    \n",
    "p = Perceptron(2, np.array([0.5, 0.5]))\n",
    "for x in [[0,0] ,[0,1] ,[1,0] ,[1,1]]:\n",
    "    y = p(np.array(x))\n",
    "    print(x, y)"
   ]
  },
  {
   "cell_type": "code",
   "execution_count": 18,
   "metadata": {},
   "outputs": [
    {
     "ename": "IndentationError",
     "evalue": "unexpected indent (<ipython-input-18-02c704d7df87>, line 19)",
     "output_type": "error",
     "traceback": [
      "\u001b[0;36m  File \u001b[0;32m\"<ipython-input-18-02c704d7df87>\"\u001b[0;36m, line \u001b[0;32m19\u001b[0m\n\u001b[0;31m    if weighted_sum> 0:\u001b[0m\n\u001b[0m    ^\u001b[0m\n\u001b[0;31mIndentationError\u001b[0m\u001b[0;31m:\u001b[0m unexpected indent\n"
     ]
    }
   ],
   "source": [
    "import numpy as np\n",
    "class Perceptron:\n",
    "    \n",
    "    def __init__(self, input_length, weights=None):\n",
    "        if weights is None:\n",
    "            self.weights = np.ones(input_length) * 0.5\n",
    "        else:\n",
    "            self.weights = weights\n",
    "        \n",
    "    @staticmethod\n",
    "    #def unit_step_function(x):\n",
    "       # if x > 0:\n",
    "        #    return 1\n",
    "       # return 0\n",
    "        \n",
    "    def __call__(self, in_data):\n",
    "        weighted_input = self.weights * in_data\n",
    "        weighted_sum = weighted_input.sum()\n",
    "                if weighted_sum> 0:\n",
    "            return 1\n",
    "        return 0\n",
    "        #return Perceptron.unit_step_function(weighted_sum)\n",
    "    \n",
    "p = Perceptron(2, np.array([0.5, 0.5]))\n",
    "for x in [[0,0] ,[0,1] ,[1,0] ,[1,1]]:\n",
    "    y = p(np.array(x))\n",
    "    print(x, y)"
   ]
  },
  {
   "cell_type": "code",
   "execution_count": 50,
   "metadata": {},
   "outputs": [
    {
     "name": "stdout",
     "output_type": "stream",
     "text": [
      "2.0\n"
     ]
    }
   ],
   "source": [
    "x1 = np.array([0,0,1,1])\n",
    "w1 = 0.5\n",
    "x2 = np.array([0,1,0,1])\n",
    "w2 = 0.5\n",
    "sum1=np.sum(np.multiply(x1,w1))\n",
    "sum2=np.sum(np.multiply(x2,w2))\n",
    "w_sum=sum1+sum2\n",
    "print(w_sum)"
   ]
  }
 ],
 "metadata": {
  "kernelspec": {
   "display_name": "Python 3",
   "language": "python",
   "name": "python3"
  },
  "language_info": {
   "codemirror_mode": {
    "name": "ipython",
    "version": 3
   },
   "file_extension": ".py",
   "mimetype": "text/x-python",
   "name": "python",
   "nbconvert_exporter": "python",
   "pygments_lexer": "ipython3",
   "version": "3.6.5"
  }
 },
 "nbformat": 4,
 "nbformat_minor": 2
}
